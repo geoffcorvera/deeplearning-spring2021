{
  "nbformat": 4,
  "nbformat_minor": 0,
  "metadata": {
    "colab": {
      "name": "Grad-CAM.ipynb",
      "provenance": [],
      "collapsed_sections": [],
      "mount_file_id": "1lqt-FazddChxsXC5Zqt3mMpXwRQI-Pcf",
      "authorship_tag": "ABX9TyNGG6PO539d4z7APKMH5huF",
      "include_colab_link": true
    },
    "kernelspec": {
      "name": "python3",
      "display_name": "Python 3"
    },
    "language_info": {
      "name": "python"
    }
  },
  "cells": [
    {
      "cell_type": "markdown",
      "metadata": {
        "id": "view-in-github",
        "colab_type": "text"
      },
      "source": [
        "<a href=\"https://colab.research.google.com/github/geoffcorvera/deeplearning-spring2021/blob/hw4/Grad_CAM.ipynb\" target=\"_parent\"><img src=\"https://colab.research.google.com/assets/colab-badge.svg\" alt=\"Open In Colab\"/></a>"
      ]
    },
    {
      "cell_type": "code",
      "metadata": {
        "id": "zxr90TJaCp-U"
      },
      "source": [
        "import numpy as np \n",
        "import matplotlib.pyplot as plt \n",
        "from matplotlib.image import imread\n",
        "import cv2\n",
        "import os\n",
        "\n",
        "# from tensorflow.keras.preprocessing.image import load_img\n",
        "from tensorflow.keras.applications.vgg16 import VGG16, preprocess_input, decode_predictions"
      ],
      "execution_count": 4,
      "outputs": []
    },
    {
      "cell_type": "markdown",
      "metadata": {
        "id": "fOb8bJi0L4Jz"
      },
      "source": [
        "# Import Model & Data"
      ]
    },
    {
      "cell_type": "code",
      "metadata": {
        "id": "B1b5mI4FC56B",
        "colab": {
          "base_uri": "https://localhost:8080/"
        },
        "outputId": "16abc455-0e61-4459-cbb0-19ca9fced92f"
      },
      "source": [
        "model = VGG16()"
      ],
      "execution_count": 5,
      "outputs": [
        {
          "output_type": "stream",
          "text": [
            "Downloading data from https://storage.googleapis.com/tensorflow/keras-applications/vgg16/vgg16_weights_tf_dim_ordering_tf_kernels.h5\n",
            "553467904/553467096 [==============================] - 7s 0us/step\n"
          ],
          "name": "stdout"
        }
      ]
    },
    {
      "cell_type": "code",
      "metadata": {
        "id": "2789f_gAEBDY",
        "colab": {
          "base_uri": "https://localhost:8080/"
        },
        "outputId": "efa14ee7-02ec-49e8-b494-9e78e4a0dd11"
      },
      "source": [
        "root_dir = r'/content/drive/MyDrive/Spring2021/Deep Learning & Computer Vision/prog4_data'\n",
        "imgs = []\n",
        "\n",
        "for i in range(1,6):\n",
        "  img_path = os.path.join(root_dir, f'gc{i}.jpg')\n",
        "  img = imread(img_path)\n",
        "  img = cv2.resize(img, (224,224))\n",
        "  imgs.append(img)\n",
        "\n",
        "imgs = list(map(preprocess_input, imgs))"
      ],
      "execution_count": 10,
      "outputs": [
        {
          "output_type": "stream",
          "text": [
            "(224, 224, 3)\n",
            "(224, 224, 3)\n",
            "(224, 224, 3)\n",
            "(224, 224, 3)\n",
            "(224, 224, 3)\n",
            "(224, 224, 3)\n"
          ],
          "name": "stdout"
        }
      ]
    },
    {
      "cell_type": "markdown",
      "metadata": {
        "id": "-a5JwB3ZMVqB"
      },
      "source": [
        "# Get Predictions"
      ]
    },
    {
      "cell_type": "code",
      "metadata": {
        "id": "HbgLYcX3MUj1"
      },
      "source": [
        "predictions = []\n",
        "for im in imgs:\n",
        "  # expand dim because model expects batched inputs\n",
        "  im = np.expand_dims(im, axis=0)\n",
        "  predictions.append(model.predict(im))"
      ],
      "execution_count": 17,
      "outputs": []
    },
    {
      "cell_type": "code",
      "metadata": {
        "id": "wBKOQByxFzIV"
      },
      "source": [
        "fig, axs = plt.subplots(nrows=5, ncols=1)\n",
        "fig.suptitle('Original Images')\n",
        "\n",
        "for ax, img in zip(axs.flatten(), imgs):\n",
        "  ax.imshow(img)\n",
        "  ax.set_axis_off()\n",
        "\n",
        "plt.show()"
      ],
      "execution_count": null,
      "outputs": []
    }
  ]
}