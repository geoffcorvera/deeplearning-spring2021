{
 "metadata": {
  "language_info": {
   "codemirror_mode": {
    "name": "ipython",
    "version": 3
   },
   "file_extension": ".py",
   "mimetype": "text/x-python",
   "name": "python",
   "nbconvert_exporter": "python",
   "pygments_lexer": "ipython3",
   "version": "3.8.8"
  },
  "orig_nbformat": 2,
  "kernelspec": {
   "name": "python388jvsc74a57bd0705e1d850106e46d1bca5a999584dd54822003db9b0cf69bdea001d3659dda95",
   "display_name": "Python 3.8.8 64-bit ('deeplearning': conda)"
  },
  "metadata": {
   "interpreter": {
    "hash": "705e1d850106e46d1bca5a999584dd54822003db9b0cf69bdea001d3659dda95"
   }
  }
 },
 "nbformat": 4,
 "nbformat_minor": 2,
 "cells": [
  {
   "source": [
    "## Approach\n",
    "1. Import image data to array\n",
    "2. Create Gaussian filter\n",
    "3. Apply filter\n",
    "4. Display resulting image (array -> jpg)"
   ],
   "cell_type": "markdown",
   "metadata": {}
  },
  {
   "cell_type": "code",
   "execution_count": 6,
   "metadata": {},
   "outputs": [],
   "source": [
    "import matplotlib.pyplot as plt \n",
    "import numpy as np"
   ]
  }
 ]
}